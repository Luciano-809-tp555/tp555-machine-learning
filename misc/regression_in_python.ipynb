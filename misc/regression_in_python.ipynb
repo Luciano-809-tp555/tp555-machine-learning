{
 "cells": [
  {
   "cell_type": "code",
   "execution_count": 42,
   "metadata": {},
   "outputs": [],
   "source": [
    "# Import all the necessary libraries.\n",
    "\n",
    "import numpy as np"
   ]
  },
  {
   "cell_type": "code",
   "execution_count": 50,
   "metadata": {},
   "outputs": [],
   "source": [
    "# Generate input/ouput (features/labels) values.\n",
    "\n",
    "N = 100;\n",
    "\n",
    "x = 2 * np.random.rand(N, 1)\n",
    "y = 4 + 3 * x + np.random.randn(N, 1)"
   ]
  },
  {
   "cell_type": "code",
   "execution_count": 57,
   "metadata": {},
   "outputs": [
    {
     "name": "stdout",
     "output_type": "stream",
     "text": [
      "a0: 3.8369524631195424\n",
      "a1: 3.070444775507994\n"
     ]
    }
   ],
   "source": [
    "# Solve by applying the least-Squares method.\n",
    "# We use the inv() function from NumPy’s Linear Algebra module (np.linalg) to compute the inverse of a matrix.\n",
    "# We use dot() method for matrix multiplication.\n",
    "\n",
    "X_b = np.c_[np.ones((N, 1)), x] # add x0 = 1 to each instance\n",
    "a_optimum = np.linalg.inv(X_b.T.dot(X_b)).dot(X_b.T).dot(y)\n",
    "\n",
    "# Print best solution.\n",
    "\n",
    "print('a0: ' + str(a_optimum[0][0]))\n",
    "print('a1: ' + str(a_optimum[1][0]))"
   ]
  },
  {
   "cell_type": "code",
   "execution_count": 58,
   "metadata": {},
   "outputs": [
    {
     "name": "stdout",
     "output_type": "stream",
     "text": [
      "a0: 3.8369524631195526\n",
      "a1: 3.0704447755079856\n"
     ]
    }
   ],
   "source": [
    "# The equivalent solution using the Scikit-Learn library is given below\n",
    "\n",
    "# Import the linear regression module form the library.\n",
    "from sklearn.linear_model import LinearRegression\n",
    "\n",
    "lin_reg = LinearRegression() # instantiate it.\n",
    "\n",
    "lin_reg.fit(x, y)\n",
    "\n",
    "print('a0: ' + str(lin_reg.intercept_[0])) # Value that crosses the y-axis when all features are equal to 0.\n",
    "print('a1: ' + str(lin_reg.coef_[0][0])) # parameters associated with the features."
   ]
  },
  {
   "cell_type": "code",
   "execution_count": null,
   "metadata": {},
   "outputs": [],
   "source": []
  },
  {
   "cell_type": "code",
   "execution_count": null,
   "metadata": {},
   "outputs": [],
   "source": []
  }
 ],
 "metadata": {
  "kernelspec": {
   "display_name": "Python 3",
   "language": "python",
   "name": "python3"
  },
  "language_info": {
   "codemirror_mode": {
    "name": "ipython",
    "version": 3
   },
   "file_extension": ".py",
   "mimetype": "text/x-python",
   "name": "python",
   "nbconvert_exporter": "python",
   "pygments_lexer": "ipython3",
   "version": "3.8.1"
  }
 },
 "nbformat": 4,
 "nbformat_minor": 4
}
