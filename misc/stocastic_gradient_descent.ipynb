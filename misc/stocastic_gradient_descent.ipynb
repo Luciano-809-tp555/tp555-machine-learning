{
 "cells": [
  {
   "cell_type": "code",
   "execution_count": 3,
   "metadata": {},
   "outputs": [],
   "source": [
    "import numpy as np\n",
    "\n",
    "# Define the number of examples.\n",
    "M = 1000\n",
    "\n",
    "# Generate target function.\n",
    "x1 = np.random.randn(M, 1)\n",
    "x2 = np.random.randn(M, 1)\n",
    "y = x1 + x2 + np.random.randn(M, 1)\n",
    "\n",
    "# Concatenate both column vectors, x1 and x2.\n",
    "X = np.c_[x1, x2]\n",
    "\n",
    "# Number of epochs.\n",
    "n_epochs = 50\n",
    "# Constant learning rate.\n",
    "eta = 0.1\n",
    "\n",
    "# Random initialization of parameters.\n",
    "a = np.random.randn(2,1) \n",
    "# Stocastic gradient-descent loop.\n",
    "for epoch in range(n_epochs):\n",
    "    for i in range(M):\n",
    "        random_index = np.random.randint(M)\n",
    "        xi = X[random_index:random_index+1]\n",
    "        yi = y[random_index:random_index+1]\n",
    "        gradients = -2*xi.T.dot(yi - xi.dot(a))\n",
    "        a = a - eta * gradients"
   ]
  },
  {
   "cell_type": "code",
   "execution_count": null,
   "metadata": {},
   "outputs": [],
   "source": []
  }
 ],
 "metadata": {
  "kernelspec": {
   "display_name": "Python 3",
   "language": "python",
   "name": "python3"
  },
  "language_info": {
   "codemirror_mode": {
    "name": "ipython",
    "version": 3
   },
   "file_extension": ".py",
   "mimetype": "text/x-python",
   "name": "python",
   "nbconvert_exporter": "python",
   "pygments_lexer": "ipython3",
   "version": "3.8.1"
  }
 },
 "nbformat": 4,
 "nbformat_minor": 4
}
