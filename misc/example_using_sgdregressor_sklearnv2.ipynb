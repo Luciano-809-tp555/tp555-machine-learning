{
 "cells": [
  {
   "cell_type": "code",
   "execution_count": 13,
   "metadata": {},
   "outputs": [
    {
     "name": "stdout",
     "output_type": "stream",
     "text": [
      "a0:  4.009387166245868\n",
      "a1:  2.968302167338434\n"
     ]
    }
   ],
   "source": [
    "import numpy as np\n",
    "\n",
    "# Usamos a classe SGDRegressor do módulo Linear da biblioteca sklearn.\n",
    "from sklearn.linear_model import SGDRegressor\n",
    "\n",
    "# Número de exemplos\n",
    "M = 1000\n",
    "\n",
    "# Criamos os features e labels.\n",
    "X = 2 * np.random.rand(M, 1)\n",
    "y = 4 + 3 * X + np.random.randn(M, 1)\n",
    "\n",
    "# Instancia a classe SGDRegressor.\n",
    "sgd_reg = SGDRegressor(max_iter=50)\n",
    "# Treina o modelo.\n",
    "sgd_reg.fit(X, y.ravel())\n",
    "\n",
    "print('a0: ', str(sgd_reg.intercept_[0]))\n",
    "print('a1: ', str(sgd_reg.coef_[0]))"
   ]
  },
  {
   "cell_type": "code",
   "execution_count": null,
   "metadata": {},
   "outputs": [],
   "source": []
  },
  {
   "cell_type": "code",
   "execution_count": null,
   "metadata": {},
   "outputs": [],
   "source": []
  },
  {
   "cell_type": "code",
   "execution_count": null,
   "metadata": {},
   "outputs": [],
   "source": []
  }
 ],
 "metadata": {
  "kernelspec": {
   "display_name": "Python 3",
   "language": "python",
   "name": "python3"
  },
  "language_info": {
   "codemirror_mode": {
    "name": "ipython",
    "version": 3
   },
   "file_extension": ".py",
   "mimetype": "text/x-python",
   "name": "python",
   "nbconvert_exporter": "python",
   "pygments_lexer": "ipython3",
   "version": "3.8.1"
  }
 },
 "nbformat": 4,
 "nbformat_minor": 4
}
