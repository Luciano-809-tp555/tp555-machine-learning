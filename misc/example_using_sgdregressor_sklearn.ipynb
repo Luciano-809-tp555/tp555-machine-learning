{
 "cells": [
  {
   "cell_type": "code",
   "execution_count": 36,
   "metadata": {},
   "outputs": [
    {
     "name": "stdout",
     "output_type": "stream",
     "text": [
      "[0.92931558 0.98826104 0.27879467]\n",
      "[0.]\n"
     ]
    }
   ],
   "source": [
    "import numpy as np\n",
    "from sklearn import linear_model\n",
    "\n",
    "rng = np.random.RandomState(0)\n",
    "\n",
    "n_samples = 100000\n",
    "\n",
    "x1 = rng.randn(n_samples, 1)\n",
    "\n",
    "x2 = rng.randn(n_samples, 1)\n",
    "\n",
    "x3 = x1*0.3\n",
    "\n",
    "w = rng.randn(n_samples, 1)\n",
    "\n",
    "y = np.ravel(x1 + x2 + w)\n",
    "\n",
    "X = np.stack((x1[:,0], x2[:,0], x3[:,0]), axis=1)\n",
    "\n",
    "clf = linear_model.SGDRegressor(max_iter=1000, tol=1e-3, fit_intercept=False, penalty='l1')\n",
    "clf.fit(X, y)\n",
    "\n",
    "print('' + str(clf.coef_ ))\n",
    "print('' + str(clf.intercept_ ))\n",
    "\n"
   ]
  },
  {
   "cell_type": "code",
   "execution_count": null,
   "metadata": {},
   "outputs": [],
   "source": []
  },
  {
   "cell_type": "code",
   "execution_count": null,
   "metadata": {},
   "outputs": [],
   "source": []
  }
 ],
 "metadata": {
  "kernelspec": {
   "display_name": "Python 3",
   "language": "python",
   "name": "python3"
  },
  "language_info": {
   "codemirror_mode": {
    "name": "ipython",
    "version": 3
   },
   "file_extension": ".py",
   "mimetype": "text/x-python",
   "name": "python",
   "nbconvert_exporter": "python",
   "pygments_lexer": "ipython3",
   "version": "3.8.1"
  }
 },
 "nbformat": 4,
 "nbformat_minor": 4
}
