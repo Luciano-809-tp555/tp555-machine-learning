{
 "cells": [
  {
   "cell_type": "markdown",
   "metadata": {
    "colab_type": "text",
    "id": "s7vSMCCxf7gi"
   },
   "source": [
    "# Deep Learning Applications in Communications\n",
    "By Jakob Hoydis, Stephan ten Brink, Sebastian Cammerer, and Sebastian D&ouml;rner.  \n",
    "Contact [jakob.hoydis@nokia-bell-labs.com](mailto:jakob.hoydis@nokia-bell-labs.com)\n",
    "\n",
    "This code is provided as supplementary material to the lecture course [Deep Learning Applications in Communications](http://www.inue.uni-stuttgart.de/lehre/vorlesung/DLACOM/Deep-Learning-Applications-for-Communications).    \n",
    "It is licensed under the GPLv2 license. If you in any way use this code for research that results in publications, please cite it appropriately. "
   ]
  },
  {
   "cell_type": "markdown",
   "metadata": {
    "colab_type": "text",
    "id": "p3uWfp8Uf7gl"
   },
   "source": [
    "## Lecture 07: Autoencoders - Learning to communicate\n",
    "### Training an end-to-end communications system on an AWGN channel"
   ]
  },
  {
   "cell_type": "markdown",
   "metadata": {
    "colab_type": "text",
    "id": "YIoYASfEf7go"
   },
   "source": [
    "#### Import libraries"
   ]
  },
  {
   "cell_type": "code",
   "execution_count": 1,
   "metadata": {
    "colab": {},
    "colab_type": "code",
    "id": "QiCDuiGqf7gr"
   },
   "outputs": [
    {
     "name": "stdout",
     "output_type": "stream",
     "text": [
      "WARNING:tensorflow:From C:\\Users\\felipe.figueiredo\\AppData\\Local\\Continuum\\anaconda3\\envs\\tensorflow\\lib\\site-packages\\tensorflow_core\\python\\compat\\v2_compat.py:65: disable_resource_variables (from tensorflow.python.ops.variable_scope) is deprecated and will be removed in a future version.\n",
      "Instructions for updating:\n",
      "non-resource variables are not supported in the long term\n"
     ]
    }
   ],
   "source": [
    "import numpy as np\n",
    "%matplotlib inline\n",
    "import matplotlib.pyplot as plt   \n",
    "import warnings\n",
    "with warnings.catch_warnings():\n",
    "    warnings.filterwarnings(\"ignore\",category=FutureWarning)\n",
    "    #import tensorflow as tf \n",
    "    import tensorflow.compat.v1 as tf\n",
    "    tf.disable_v2_behavior()\n",
    "import os\n",
    "os.environ[\"CUDA_VISIBLE_DEVICES\"] = \"0\" # Ignore if you do not have multiple GPUs"
   ]
  },
  {
   "cell_type": "markdown",
   "metadata": {
    "colab_type": "text",
    "id": "mrLsO1Nxf7g3"
   },
   "source": [
    "#### System parameters"
   ]
  },
  {
   "cell_type": "code",
   "execution_count": 2,
   "metadata": {
    "colab": {},
    "colab_type": "code",
    "id": "4eRvwZ5Nf7g6"
   },
   "outputs": [],
   "source": [
    "k = 3       # Number of information bits per message, i.e., M=2**k\n",
    "n = 2       # Number of real channel uses per message\n",
    "seed = 2    # Seed RNG reproduce identical results"
   ]
  },
  {
   "cell_type": "markdown",
   "metadata": {
    "colab_type": "text",
    "id": "28KCbvYif7hD"
   },
   "source": [
    "#### The Autoencoder Class\n",
    "In order to quickly experiment with different architecture and parameter choices, it is useful to create a Python class that has functions for training and inference. Each autoencoder instance has its own Tensorflow session and graph. Thus, you can have multiple instances running at the same time without interference between them."
   ]
  },
  {
   "cell_type": "code",
   "execution_count": 3,
   "metadata": {
    "colab": {},
    "colab_type": "code",
    "id": "hs9Rtd01f7hG"
   },
   "outputs": [],
   "source": [
    "class AE(object):\n",
    "    def __init__(self, k, n, seed=None, filename=None):\n",
    "        assert (n%2 == 0), \"Channel only allows complex symbols -> n must be a multiple of 2\"\n",
    "        self.k = k \n",
    "        self.n = n\n",
    "        self.n_complex = int(self.n/2)\n",
    "        self.bits_per_symbol = self.k/self.n_complex\n",
    "        self.M = 2**self.k\n",
    "        self.seed = seed if (seed is not None) else int(time.time())           \n",
    "        self.graph = None\n",
    "        self.sess = None   \n",
    "        self.vars = None\n",
    "        self.saver = None   \n",
    "        self.constellations = None\n",
    "        self.blers = None\n",
    "        self.create_graph()\n",
    "        self.create_session()\n",
    "        if filename is not None:    \n",
    "            self.load(filename)       \n",
    "        return\n",
    "    \n",
    "    def create_graph(self):\n",
    "        '''This function creates the computation graph of the autoencoder'''\n",
    "        self.graph = tf.Graph()        \n",
    "        with self.graph.as_default():    \n",
    "            tf.set_random_seed(self.seed)\n",
    "            batch_size = tf.placeholder(tf.int32, shape=())\n",
    "            \n",
    "            # Transmitter\n",
    "            s = tf.random_uniform(shape=[batch_size], minval=0, maxval=self.M, dtype=tf.int64)\n",
    "            x = self.encoder(s)     \n",
    "            \n",
    "            # Channel\n",
    "            noise_std = tf.placeholder(tf.float32, shape=())\n",
    "            y = x + tf.random_normal(tf.shape(x), mean=0.0, stddev=noise_std) \n",
    "           \n",
    "            # Receiver\n",
    "            s_hat = self.decoder(y)\n",
    "            \n",
    "            # Loss function\n",
    "            cross_entropy = tf.losses.sparse_softmax_cross_entropy(labels=s, logits=s_hat)\n",
    "                \n",
    "            # Performance metrics\n",
    "            correct_predictions = tf.equal(tf.argmax(tf.nn.softmax(s_hat), axis=1), s)\n",
    "            accuracy = tf.reduce_mean(tf.cast(correct_predictions, tf.float32))\n",
    "            bler = 1-accuracy\n",
    "    \n",
    "            # Optimizer\n",
    "            lr = tf.placeholder(tf.float32, shape=()) # We can feed in any desired learning rate for each step     \n",
    "            train_op = tf.train.AdamOptimizer(lr).minimize(cross_entropy)\n",
    "        \n",
    "            # References to graph variables we need to access later \n",
    "            self.vars = {\n",
    "                'accuracy': accuracy,\n",
    "                'batch_size': batch_size,\n",
    "                'bler': bler,\n",
    "                'cross_entropy': cross_entropy,\n",
    "                'init': tf.global_variables_initializer(),\n",
    "                'lr': lr,\n",
    "                'noise_std': noise_std,\n",
    "                'train_op': train_op,\n",
    "                's': s,\n",
    "                's_hat': s_hat,\n",
    "                'x': x,\n",
    "            }            \n",
    "            self.saver = tf.train.Saver()\n",
    "        return\n",
    "    \n",
    "    def create_session(self):\n",
    "        '''Create a session for the autoencoder instance with the compuational graph'''\n",
    "        self.sess = tf.Session(graph=self.graph)        \n",
    "        self.sess.run(self.vars['init'])\n",
    "        return\n",
    "    \n",
    "    def encoder(self, input):\n",
    "        '''The transmitter'''\n",
    "        W = self.weight_variable((self.M,self.M))    \n",
    "        x = tf.nn.elu(tf.nn.embedding_lookup(W, input))\n",
    "        x = tf.layers.dense(x, self.n, activation=None)\n",
    "        x = tf.reshape(x, shape=[-1,self.n_complex,2])\n",
    "        \n",
    "        #Average power normalization\n",
    "        x = x/tf.sqrt(2*tf.reduce_mean(tf.square(x))) \n",
    "        return x\n",
    "    \n",
    "    def decoder(self, input):\n",
    "        '''The Receiver'''\n",
    "        y = tf.reshape(input, shape=[-1,self.n])\n",
    "        y = tf.layers.dense(y, self.M, activation=tf.nn.relu)\n",
    "        y = tf.layers.dense(y, self.M, activation=None)\n",
    "        return y\n",
    "    \n",
    "    def EbNo2Sigma(self, ebnodb):\n",
    "        '''Convert Eb/No in dB to noise standard deviation'''\n",
    "        ebno = 10**(ebnodb/10)\n",
    "        return 1/np.sqrt(2*self.bits_per_symbol*ebno)\n",
    "    \n",
    "    def gen_feed_dict(self, batch_size, ebnodb, lr):\n",
    "        '''Generate a feed dictionary for training and validation'''        \n",
    "        return {\n",
    "            self.vars['batch_size']: batch_size,\n",
    "            self.vars['noise_std']: self.EbNo2Sigma(ebnodb),\n",
    "            self.vars['lr']: lr,\n",
    "        }    \n",
    "    \n",
    "    def load(self, filename):\n",
    "        '''Load an pre_trained model'''\n",
    "        return self.saver.restore(self.sess, filename)\n",
    "        \n",
    "    def plot_constellation(self, maxrange=None):\n",
    "        '''Generate a plot of the current constellation'''\n",
    "        x = self.transmit(range(self.M))\n",
    "        if (maxrange is None):\n",
    "            maxrange = np.max(np.abs(x))\n",
    "        for k in range(self.n_complex):\n",
    "            image = plt.figure(figsize=(6,6))\n",
    "            plt.grid(True)\n",
    "            plt.xlim(-maxrange,maxrange)\n",
    "            plt.ylim(-maxrange,maxrange)\n",
    "            for i in range(self.M):       \n",
    "                plt.scatter(x[i,k,0],x[i,k,1],c=\"black\",marker='x')   \n",
    "            image.axes[0].set_xticks(np.array([-2,-1,0,1,2]))\n",
    "            image.axes[0].set_yticks(np.array([-2,-1,0,1,2]))\n",
    "            image.suptitle('%d. complex symbol' % (k+1))\n",
    "            plt.xlabel('Re')\n",
    "            plt.ylabel('Im')\n",
    "        return x, image\n",
    "    \n",
    "    def save(self, filename):\n",
    "        '''Save the current model'''\n",
    "        return self.saver.save(self.sess, filename)  \n",
    "    \n",
    "    def test_step(self, batch_size, ebnodb):\n",
    "        '''Compute the BLER over a single batch and Eb/No'''\n",
    "        bler = self.sess.run(self.vars['bler'], feed_dict=self.gen_feed_dict(batch_size, ebnodb, lr=0))\n",
    "        return bler\n",
    "    \n",
    "    def transmit(self, s):\n",
    "        '''Returns the transmitted sigals corresponding to message indices'''\n",
    "        return self.sess.run(self.vars['x'], feed_dict={self.vars['s']: s})\n",
    "       \n",
    "    def train(self, training_params, validation_params):  \n",
    "        '''Training and validation loop'''\n",
    "        for index, params in enumerate(training_params):            \n",
    "            batch_size, lr, ebnodb, iterations = params            \n",
    "            print('\\nBatch Size: ' + str(batch_size) +\n",
    "                  ', Learning Rate: ' + str(lr) +\n",
    "                  ', EbNodB: ' + str(ebnodb) +\n",
    "                  ', Iterations: ' + str(iterations))\n",
    "            \n",
    "            val_size, val_ebnodb, val_steps = validation_params[index]\n",
    "            \n",
    "            for i in range(iterations):\n",
    "                self.train_step(batch_size, ebnodb, lr)    \n",
    "                if (i%val_steps==0):\n",
    "                    bler = self.sess.run(self.vars['bler'], feed_dict=self.gen_feed_dict(val_size, val_ebnodb, lr))\n",
    "                    print(bler)                           \n",
    "        return       \n",
    "    \n",
    "    def train_step(self, batch_size, ebnodb, lr):\n",
    "        '''A single training step'''\n",
    "        self.sess.run(self.vars['train_op'], feed_dict=self.gen_feed_dict(batch_size, ebnodb, lr))\n",
    "        return \n",
    "    \n",
    "    def weight_variable(self, shape):\n",
    "        '''Xavier-initialized weights optimized for ReLU Activations'''\n",
    "        (fan_in, fan_out) = shape\n",
    "        low = np.sqrt(6.0/(fan_in + fan_out)) \n",
    "        high = -np.sqrt(6.0/(fan_in + fan_out))\n",
    "        return tf.Variable(tf.random_uniform(shape, minval=low, maxval=high, dtype=tf.float32))\n",
    "    \n",
    "    def bler_sim(self, ebnodbs, batch_size, iterations):\n",
    "        '''Monte Carlo simulations of BLER for a range of Eb/No\n",
    "           Sometimes we to compute statistics for batch sizes that do not fit into the GPUs memory.\n",
    "           You can average over multiple batches with small size instead.           \n",
    "        '''\n",
    "        BLER = np.zeros_like(ebnodbs)\n",
    "        for i in range(iterations):\n",
    "            bler = np.array([self.sess.run(self.vars['bler'],\n",
    "                            feed_dict=self.gen_feed_dict(batch_size, ebnodb, lr=0)) for ebnodb in ebnodbs])\n",
    "            BLER = BLER + bler/iterations\n",
    "        return BLER\n",
    "    \n",
    "    def plot_bler(self, EbNodB, BLER):\n",
    "        '''Plot a BLER curve'''\n",
    "        image = plt.figure(figsize=(10,8))\n",
    "        plt.plot(EbNodB, BLER, '-r', linewidth=2.0)\n",
    "        plt.yscale('log')\n",
    "        plt.xlabel('EbNo (dB)', fontsize=18)\n",
    "        plt.ylabel('Block-error rate', fontsize=18)\n",
    "        plt.grid(True)\n",
    "        plt.ylim([1e-5,1])\n",
    "        return image"
   ]
  },
  {
   "cell_type": "markdown",
   "metadata": {
    "colab_type": "text",
    "id": "bANUdLIsf7hM"
   },
   "source": [
    "## Training parameters"
   ]
  },
  {
   "cell_type": "code",
   "execution_count": 4,
   "metadata": {
    "colab": {},
    "colab_type": "code",
    "id": "YeHghWVRf7hO"
   },
   "outputs": [],
   "source": [
    "train_EbNodB = 7\n",
    "val_EbNodB = train_EbNodB\n",
    "\n",
    "training_params = [\n",
    "    #batch_size, lr, ebnodb, iterations\n",
    "    [100    , 0.001, train_EbNodB, 1000],\n",
    "    [100    , 0.0001, train_EbNodB, 10000],\n",
    "    [1000    , 0.0001, train_EbNodB, 10000]\n",
    "]\n",
    "\n",
    "validation_params = [\n",
    "    #batch_size, ebnodb, val_steps \n",
    "    [100000, val_EbNodB, 100],\n",
    "    [100000, val_EbNodB, 1000],\n",
    "    [100000, val_EbNodB, 1000]\n",
    "]"
   ]
  },
  {
   "cell_type": "markdown",
   "metadata": {
    "colab_type": "text",
    "id": "Wl3hENsvf7hW"
   },
   "source": [
    "## Create and train model"
   ]
  },
  {
   "cell_type": "code",
   "execution_count": 5,
   "metadata": {
    "colab": {
     "base_uri": "https://localhost:8080/",
     "height": 678
    },
    "colab_type": "code",
    "executionInfo": {
     "elapsed": 65589,
     "status": "ok",
     "timestamp": 1528882611879,
     "user": {
      "displayName": "Sebastian D.",
      "photoUrl": "//lh5.googleusercontent.com/-jh5xFAMjpGQ/AAAAAAAAAAI/AAAAAAAADH0/8xJ1gJhEdUg/s50-c-k-no/photo.jpg",
      "userId": "102447092861031074656"
     },
     "user_tz": -120
    },
    "id": "B0GA7ihjf7hZ",
    "outputId": "77435e4e-33d2-43cb-c68e-a36c8f2352ed"
   },
   "outputs": [
    {
     "name": "stdout",
     "output_type": "stream",
     "text": [
      "WARNING:tensorflow:From <ipython-input-3-45eaffc39fc5>:79: dense (from tensorflow.python.layers.core) is deprecated and will be removed in a future version.\n",
      "Instructions for updating:\n",
      "Use keras.layers.Dense instead.\n",
      "WARNING:tensorflow:From C:\\Users\\felipe.figueiredo\\AppData\\Local\\Continuum\\anaconda3\\envs\\tensorflow\\lib\\site-packages\\tensorflow_core\\python\\layers\\core.py:187: Layer.apply (from tensorflow.python.keras.engine.base_layer) is deprecated and will be removed in a future version.\n",
      "Instructions for updating:\n",
      "Please use `layer.__call__` method instead.\n",
      "\n",
      "Batch Size: 100, Learning Rate: 0.001, EbNodB: 7, Iterations: 1000\n",
      "0.87566\n",
      "0.50277\n",
      "0.41313\n",
      "0.36465\n",
      "0.23027003\n",
      "0.15051001\n",
      "0.10478002\n",
      "0.066269994\n",
      "0.042509973\n",
      "0.034049988\n",
      "\n",
      "Batch Size: 100, Learning Rate: 0.0001, EbNodB: 7, Iterations: 10000\n",
      "0.027040005\n",
      "0.025269985\n",
      "0.02184999\n",
      "0.021099985\n",
      "0.019959986\n",
      "0.018739998\n",
      "0.017870009\n",
      "0.015839994\n",
      "0.015950024\n",
      "0.015280008\n",
      "\n",
      "Batch Size: 1000, Learning Rate: 0.0001, EbNodB: 7, Iterations: 10000\n",
      "0.014959991\n",
      "0.014110029\n",
      "0.013999999\n",
      "0.013530016\n",
      "0.012920022\n",
      "0.0132700205\n",
      "0.012570024\n",
      "0.012170017\n",
      "0.0121200085\n",
      "0.012740016\n"
     ]
    }
   ],
   "source": [
    "model_file = 'models/ae_k_{}_n_{}'.format(k,n)\n",
    "ae = AE(k,n,seed)\n",
    "ae.train(training_params, validation_params)\n",
    "ae.save(model_file); # Save the trained autoencoder if you want to reuse it later"
   ]
  },
  {
   "cell_type": "markdown",
   "metadata": {
    "colab_type": "text",
    "id": "lzqpcwGaf7hm"
   },
   "source": [
    "## Evaluate trained model"
   ]
  },
  {
   "cell_type": "code",
   "execution_count": 6,
   "metadata": {
    "colab": {
     "base_uri": "https://localhost:8080/",
     "height": 35
    },
    "colab_type": "code",
    "executionInfo": {
     "elapsed": 984,
     "status": "ok",
     "timestamp": 1528882612931,
     "user": {
      "displayName": "Sebastian D.",
      "photoUrl": "//lh5.googleusercontent.com/-jh5xFAMjpGQ/AAAAAAAAAAI/AAAAAAAADH0/8xJ1gJhEdUg/s50-c-k-no/photo.jpg",
      "userId": "102447092861031074656"
     },
     "user_tz": -120
    },
    "id": "Y33vV4xKf7hn",
    "outputId": "0609c0ef-f157-4f31-c033-f31e42d0574f"
   },
   "outputs": [
    {
     "name": "stdout",
     "output_type": "stream",
     "text": [
      "INFO:tensorflow:Restoring parameters from models/ae_k_3_n_2\n"
     ]
    }
   ],
   "source": [
    "ae = AE(k,n,seed, filename=model_file) #Load a pretrained model that you have saved if needed"
   ]
  },
  {
   "cell_type": "markdown",
   "metadata": {
    "colab_type": "text",
    "id": "dsoF-I7Rf7hy"
   },
   "source": [
    "### Plot of learned constellations"
   ]
  },
  {
   "cell_type": "code",
   "execution_count": 7,
   "metadata": {
    "colab": {
     "base_uri": "https://localhost:8080/",
     "height": 431
    },
    "colab_type": "code",
    "executionInfo": {
     "elapsed": 555,
     "status": "ok",
     "timestamp": 1528882613537,
     "user": {
      "displayName": "Sebastian D.",
      "photoUrl": "//lh5.googleusercontent.com/-jh5xFAMjpGQ/AAAAAAAAAAI/AAAAAAAADH0/8xJ1gJhEdUg/s50-c-k-no/photo.jpg",
      "userId": "102447092861031074656"
     },
     "user_tz": -120
    },
    "id": "YjGW8S_df7h0",
    "outputId": "f9085106-e16c-4d8c-aff3-692f1aeec37d"
   },
   "outputs": [
    {
     "data": {
      "image/png": "[encoded data removed]",
      "text/plain": [
       "<Figure size 432x432 with 1 Axes>"
      ]
     },
     "metadata": {
      "needs_background": "light"
     },
     "output_type": "display_data"
    }
   ],
   "source": [
    "ae.plot_constellation();"
   ]
  },
  {
   "cell_type": "markdown",
   "metadata": {
    "colab_type": "text",
    "id": "AFZCQNe9f7iD"
   },
   "source": [
    "### BLER Simulations"
   ]
  },
  {
   "cell_type": "code",
   "execution_count": 8,
   "metadata": {
    "colab": {
     "base_uri": "https://localhost:8080/",
     "height": 510
    },
    "colab_type": "code",
    "executionInfo": {
     "elapsed": 1473,
     "status": "ok",
     "timestamp": 1528882615195,
     "user": {
      "displayName": "Sebastian D.",
      "photoUrl": "//lh5.googleusercontent.com/-jh5xFAMjpGQ/AAAAAAAAAAI/AAAAAAAADH0/8xJ1gJhEdUg/s50-c-k-no/photo.jpg",
      "userId": "102447092861031074656"
     },
     "user_tz": -120
    },
    "id": "wukzCBJff7iE",
    "outputId": "1df3491c-4c07-4909-e6b5-4ad41cb33271"
   },
   "outputs": [
    {
     "data": {
      "image/png": "[encoded data removed]",
      "text/plain": [
       "<Figure size 720x576 with 1 Axes>"
      ]
     },
     "metadata": {
      "needs_background": "light"
     },
     "output_type": "display_data"
    }
   ],
   "source": [
    "ebnodbs = np.linspace(0,14,15)\n",
    "BLER_8PSK = [0.3478959, 0.2926128, 0.2378847, 0.1854187, 0.1372344, 0.0953536, 0.0614003, 0.0360195, 0.0185215, 0.0082433, 0.0030178, 0.0008626, 0.0001903, 0.0000289, 0.0000027, ]\n",
    "blers = ae.bler_sim(ebnodbs, 1000000, 1);\n",
    "ae.plot_bler(ebnodbs, blers);\n",
    "plt.plot(ebnodbs,BLER_8PSK);\n",
    "plt.legend(['Autoencoder', '8PSK'], prop={'size': 16}, loc='upper right');"
   ]
  },
  {
   "cell_type": "code",
   "execution_count": null,
   "metadata": {
    "colab": {},
    "colab_type": "code",
    "id": "zMl-Rljrf7iR"
   },
   "outputs": [],
   "source": []
  },
  {
   "cell_type": "code",
   "execution_count": null,
   "metadata": {},
   "outputs": [],
   "source": []
  },
  {
   "cell_type": "code",
   "execution_count": null,
   "metadata": {},
   "outputs": [],
   "source": []
  }
 ],
 "metadata": {
  "accelerator": "GPU",
  "colab": {
   "name": "Lecture 07 - Autoencoders - Learning to communicate.ipynb",
   "provenance": [],
   "version": "0.3.2"
  },
  "kernelspec": {
   "display_name": "Python 3",
   "language": "python",
   "name": "python3"
  },
  "language_info": {
   "codemirror_mode": {
    "name": "ipython",
    "version": 3
   },
   "file_extension": ".py",
   "mimetype": "text/x-python",
   "name": "python",
   "nbconvert_exporter": "python",
   "pygments_lexer": "ipython3",
   "version": "3.7.6"
  }
 },
 "nbformat": 4,
 "nbformat_minor": 1
}
