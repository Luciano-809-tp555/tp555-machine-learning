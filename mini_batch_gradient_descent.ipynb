{
 "cells": [
  {
   "cell_type": "code",
   "execution_count": 12,
   "metadata": {},
   "outputs": [],
   "source": [
    "import numpy as np\n",
    "\n",
    "# Define the number of examples.\n",
    "M = 1000\n",
    "\n",
    "# Generate a linear-looking dataset.\n",
    "X = 2 * np.random.rand(M, 1)\n",
    "y = 4 + 3 * X + np.random.randn(M, 1)\n",
    "\n",
    "# Add x0 = 1 to each instance.\n",
    "X_b = np.c_[np.ones((M, 1)), X]\n",
    "\n",
    "# Number of epochs.\n",
    "n_epochs = 50\n",
    "\n",
    "# learning schedule hyperparameter.\n",
    "k = 0.01\n",
    "# Initial learning rate.\n",
    "alpha_int = 0.1\n",
    "# Learning schedule function.\n",
    "def learning_schedule(alpha_int, k, t):\n",
    "    return alpha_int*np.exp(-k*t)\n",
    "\n",
    "alpha = alpha_int\n",
    "\n",
    "# Mini-batch size.\n",
    "mb_size = 10\n",
    "\n",
    "# Random initialization of parameters.\n",
    "a = np.random.randn(2,1) \n",
    "# Mini-batch gradient-descent loop.\n",
    "for epoch in range(n_epochs):\n",
    "    for i in range(M):\n",
    "        random_indexes = np.random.randint(M, size=mb_size)\n",
    "        xi = X_b[random_indexes]\n",
    "        yi = y[random_indexes]\n",
    "        gradients = -2/mb_size*xi.T.dot(yi - xi.dot(a))\n",
    "        a = a - alpha * gradients"
   ]
  },
  {
   "cell_type": "code",
   "execution_count": 10,
   "metadata": {},
   "outputs": [
    {
     "name": "stdout",
     "output_type": "stream",
     "text": [
      "a0_mbgd: 4.095851826421567\n",
      "a1_mbgd: 2.9291733989820927\n"
     ]
    }
   ],
   "source": [
    "# Print found values.\n",
    "print('a0_mbgd: ' + str(a[0, 0]))\n",
    "print('a1_mbgd: ' + str(a[1, 0]))"
   ]
  },
  {
   "cell_type": "code",
   "execution_count": null,
   "metadata": {},
   "outputs": [],
   "source": []
  }
 ],
 "metadata": {
  "kernelspec": {
   "display_name": "Python 3",
   "language": "python",
   "name": "python3"
  },
  "language_info": {
   "codemirror_mode": {
    "name": "ipython",
    "version": 3
   },
   "file_extension": ".py",
   "mimetype": "text/x-python",
   "name": "python",
   "nbconvert_exporter": "python",
   "pygments_lexer": "ipython3",
   "version": "3.8.1"
  }
 },
 "nbformat": 4,
 "nbformat_minor": 4
}
