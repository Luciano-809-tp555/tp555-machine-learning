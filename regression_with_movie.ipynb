{
 "cells": [
  {
   "cell_type": "code",
   "execution_count": 5,
   "metadata": {},
   "outputs": [
    {
     "name": "stdout",
     "output_type": "stream",
     "text": [
      "3546.9168093078533\n",
      "Stopped with Error at 0.64600\n",
      "[[ 2.66128859]\n",
      " [-3.12639301]\n",
      " [11.15933173]]\n"
     ]
    },
    {
     "data": {
      "image/png": "[encoded data removed]",
      "text/plain": [
       "<Figure size 432x288 with 1 Axes>"
      ]
     },
     "metadata": {
      "needs_background": "light"
     },
     "output_type": "display_data"
    }
   ],
   "source": [
    "import random\n",
    "import matplotlib.pyplot as plt\n",
    "import math\n",
    "import numpy as np\n",
    "import functools\n",
    "from matplotlib.animation import FuncAnimation\n",
    "\n",
    "\"\"\"\n",
    "Dummy Data for Linear Regression\n",
    "\"\"\"\n",
    "data = [(1, 1), (2, 2), (3, 4), (4, 3), (5, 5.5), (6, 8), (7, 6), (8, 8.4), (9, 10), (5, 4)]    \n",
    "\n",
    "\"\"\"\n",
    "Plot the line using theta_values\n",
    "\"\"\"\n",
    "def plot_line(formula, x_range, order_of_regression):\n",
    "    x = np.array(x_range).tolist()  \n",
    "    y = [formula(update_features(x_i, order_of_regression, 9)) for x_i in x]\n",
    "    plt.plot(x, y)\n",
    "\n",
    "\"\"\"\n",
    "Hypothesis Function\n",
    "\"\"\"\n",
    "def h(x, theta):\n",
    "    return np.matmul(theta.T, x)[0][0]\n",
    "\n",
    "\"\"\"\n",
    "Partial Derivative w.r.t. theta_i\n",
    "\"\"\"\n",
    "def j_prime_theta(data, theta, order_of_regression, i):\n",
    "    result = 0\n",
    "    m = len(data)\n",
    "    for x, y in data :\n",
    "        x = update_features(x, order_of_regression)\n",
    "        result += (h(x, theta) - y) * x[i]\n",
    "    \n",
    "    return (1/m) * result\n",
    "\n",
    "\"\"\"\n",
    "Update features by order of the regression\n",
    "\"\"\"\n",
    "\n",
    "def update_features(x, order_of_regression, m = 9):\n",
    "    features = [1]\n",
    "    for i in range(order_of_regression):\n",
    "        features.append(math.pow(x, i+1)/ math.pow(m, i+1))\n",
    "    return np.atleast_2d(features).T\n",
    "\n",
    "\"\"\"\n",
    "Cost Function\n",
    "\"\"\"\n",
    "def j(data, theta, order_of_regression):\n",
    "    cost = 0\n",
    "    m = len(data)\n",
    "    for x, y in data:\n",
    "        x = update_features(x, order_of_regression)\n",
    "        cost += math.pow(h(x, theta) - y, 2)\n",
    "    return (1/(2*m)) * cost\n",
    "\n",
    "\"\"\"\n",
    "Simultaneous Update\n",
    "\"\"\"\n",
    "def update_theta(data, alpha, theta, order_of_regression):\n",
    "    temp = []\n",
    "    for i in range(order_of_regression+1):\n",
    "        temp.append(theta[i] - alpha * j_prime_theta(data, theta, order_of_regression, i))\n",
    "    theta = np.array(temp)\n",
    "    return theta\n",
    "    \n",
    "\"\"\"\n",
    "Gradient Descent For Multivariate Regression\n",
    "\"\"\"\n",
    "def gradient_descent(data, alpha, tolerance, theta=[], order_of_regression = 2):\n",
    "    if len(theta) == 0:\n",
    "        theta = np.atleast_2d(np.random.random(order_of_regression+1) * 100).T\n",
    "    prev_j = 10000\n",
    "    curr_j = j(data, theta, order_of_regression)\n",
    "    print(curr_j)\n",
    "    cost_history = []\n",
    "    theta_history = [] \n",
    "    while(abs(curr_j - prev_j) > tolerance):\n",
    "        try:\n",
    "            cost_history.append(curr_j)\n",
    "            theta_history.append(theta)\n",
    "            theta = update_theta(data, alpha, theta, order_of_regression)\n",
    "            prev_j = curr_j\n",
    "            curr_j = j(data, theta, order_of_regression)\n",
    "        except:\n",
    "            break\n",
    "    print(\"Stopped with Error at %.5f\" % prev_j)\n",
    "    return theta, cost_history, theta_history\n",
    "\n",
    "theta, cost_history, theta_history = gradient_descent(data, 0.1, 0.0001, order_of_regression=2)\n",
    "\n",
    "f = functools.partial(h, theta=theta_history[-1])\n",
    "plt.scatter([i[0] for i in data], [i[1] for i in data])\n",
    "plot_line(f, range(1,10), order_of_regression=2)\n",
    "plt.show()"
   ]
  },
  {
   "cell_type": "code",
   "execution_count": 7,
   "metadata": {},
   "outputs": [
    {
     "ename": "AttributeError",
     "evalue": "'list' object has no attribute 'shape'",
     "output_type": "error",
     "traceback": [
      "\u001b[1;31m---------------------------------------------------------------------------\u001b[0m",
      "\u001b[1;31mAttributeError\u001b[0m                            Traceback (most recent call last)",
      "\u001b[1;32m<ipython-input-7-c8ad61129b16>\u001b[0m in \u001b[0;36m<module>\u001b[1;34m\u001b[0m\n\u001b[0;32m     31\u001b[0m ani = FuncAnimation(fig, update, frames=data_gen(),\n\u001b[0;32m     32\u001b[0m                     init_func=init, blit=False, interval=100)\n\u001b[1;32m---> 33\u001b[1;33m \u001b[0mdisplay\u001b[0m\u001b[1;33m(\u001b[0m\u001b[0mHTML\u001b[0m\u001b[1;33m(\u001b[0m\u001b[0mani\u001b[0m\u001b[1;33m.\u001b[0m\u001b[0mto_html5_video\u001b[0m\u001b[1;33m(\u001b[0m\u001b[1;33m)\u001b[0m\u001b[1;33m)\u001b[0m\u001b[1;33m)\u001b[0m\u001b[1;33m\u001b[0m\u001b[1;33m\u001b[0m\u001b[0m\n\u001b[0m",
      "\u001b[1;32m~\\AppData\\Local\\Continuum\\anaconda3\\envs\\tf-gpu\\lib\\site-packages\\matplotlib\\animation.py\u001b[0m in \u001b[0;36mto_html5_video\u001b[1;34m(self, embed_limit)\u001b[0m\n\u001b[0;32m   1328\u001b[0m                                 \u001b[0mbitrate\u001b[0m\u001b[1;33m=\u001b[0m\u001b[0mrcParams\u001b[0m\u001b[1;33m[\u001b[0m\u001b[1;34m'animation.bitrate'\u001b[0m\u001b[1;33m]\u001b[0m\u001b[1;33m,\u001b[0m\u001b[1;33m\u001b[0m\u001b[1;33m\u001b[0m\u001b[0m\n\u001b[0;32m   1329\u001b[0m                                 fps=1000. / self._interval)\n\u001b[1;32m-> 1330\u001b[1;33m                 \u001b[0mself\u001b[0m\u001b[1;33m.\u001b[0m\u001b[0msave\u001b[0m\u001b[1;33m(\u001b[0m\u001b[0mstr\u001b[0m\u001b[1;33m(\u001b[0m\u001b[0mpath\u001b[0m\u001b[1;33m)\u001b[0m\u001b[1;33m,\u001b[0m \u001b[0mwriter\u001b[0m\u001b[1;33m=\u001b[0m\u001b[0mwriter\u001b[0m\u001b[1;33m)\u001b[0m\u001b[1;33m\u001b[0m\u001b[1;33m\u001b[0m\u001b[0m\n\u001b[0m\u001b[0;32m   1331\u001b[0m                 \u001b[1;31m# Now open and base64 encode.\u001b[0m\u001b[1;33m\u001b[0m\u001b[1;33m\u001b[0m\u001b[1;33m\u001b[0m\u001b[0m\n\u001b[0;32m   1332\u001b[0m                 \u001b[0mvid64\u001b[0m \u001b[1;33m=\u001b[0m \u001b[0mbase64\u001b[0m\u001b[1;33m.\u001b[0m\u001b[0mencodebytes\u001b[0m\u001b[1;33m(\u001b[0m\u001b[0mpath\u001b[0m\u001b[1;33m.\u001b[0m\u001b[0mread_bytes\u001b[0m\u001b[1;33m(\u001b[0m\u001b[1;33m)\u001b[0m\u001b[1;33m)\u001b[0m\u001b[1;33m\u001b[0m\u001b[1;33m\u001b[0m\u001b[0m\n",
      "\u001b[1;32m~\\AppData\\Local\\Continuum\\anaconda3\\envs\\tf-gpu\\lib\\site-packages\\matplotlib\\animation.py\u001b[0m in \u001b[0;36msave\u001b[1;34m(self, filename, writer, fps, dpi, codec, bitrate, extra_args, metadata, extra_anim, savefig_kwargs, progress_callback)\u001b[0m\n\u001b[0;32m   1147\u001b[0m                 \u001b[1;32melse\u001b[0m\u001b[1;33m:\u001b[0m\u001b[1;33m\u001b[0m\u001b[1;33m\u001b[0m\u001b[0m\n\u001b[0;32m   1148\u001b[0m                     \u001b[0mtotal_frames\u001b[0m \u001b[1;33m=\u001b[0m \u001b[0msum\u001b[0m\u001b[1;33m(\u001b[0m\u001b[0msave_count_list\u001b[0m\u001b[1;33m)\u001b[0m\u001b[1;33m\u001b[0m\u001b[1;33m\u001b[0m\u001b[0m\n\u001b[1;32m-> 1149\u001b[1;33m                 \u001b[1;32mfor\u001b[0m \u001b[0mdata\u001b[0m \u001b[1;32min\u001b[0m \u001b[0mzip\u001b[0m\u001b[1;33m(\u001b[0m\u001b[1;33m*\u001b[0m\u001b[1;33m[\u001b[0m\u001b[0ma\u001b[0m\u001b[1;33m.\u001b[0m\u001b[0mnew_saved_frame_seq\u001b[0m\u001b[1;33m(\u001b[0m\u001b[1;33m)\u001b[0m \u001b[1;32mfor\u001b[0m \u001b[0ma\u001b[0m \u001b[1;32min\u001b[0m \u001b[0mall_anim\u001b[0m\u001b[1;33m]\u001b[0m\u001b[1;33m)\u001b[0m\u001b[1;33m:\u001b[0m\u001b[1;33m\u001b[0m\u001b[1;33m\u001b[0m\u001b[0m\n\u001b[0m\u001b[0;32m   1150\u001b[0m                     \u001b[1;32mfor\u001b[0m \u001b[0manim\u001b[0m\u001b[1;33m,\u001b[0m \u001b[0md\u001b[0m \u001b[1;32min\u001b[0m \u001b[0mzip\u001b[0m\u001b[1;33m(\u001b[0m\u001b[0mall_anim\u001b[0m\u001b[1;33m,\u001b[0m \u001b[0mdata\u001b[0m\u001b[1;33m)\u001b[0m\u001b[1;33m:\u001b[0m\u001b[1;33m\u001b[0m\u001b[1;33m\u001b[0m\u001b[0m\n\u001b[0;32m   1151\u001b[0m                         \u001b[1;31m# TODO: See if turning off blit is really necessary\u001b[0m\u001b[1;33m\u001b[0m\u001b[1;33m\u001b[0m\u001b[1;33m\u001b[0m\u001b[0m\n",
      "\u001b[1;32m<ipython-input-7-c8ad61129b16>\u001b[0m in \u001b[0;36mdata_gen\u001b[1;34m()\u001b[0m\n\u001b[0;32m     24\u001b[0m \u001b[1;33m\u001b[0m\u001b[0m\n\u001b[0;32m     25\u001b[0m \u001b[1;32mdef\u001b[0m \u001b[0mdata_gen\u001b[0m\u001b[1;33m(\u001b[0m\u001b[1;33m)\u001b[0m\u001b[1;33m:\u001b[0m\u001b[1;33m\u001b[0m\u001b[1;33m\u001b[0m\u001b[0m\n\u001b[1;32m---> 26\u001b[1;33m     \u001b[0mprint\u001b[0m\u001b[1;33m(\u001b[0m\u001b[0mtheta_history\u001b[0m\u001b[1;33m.\u001b[0m\u001b[0mshape\u001b[0m\u001b[1;33m)\u001b[0m\u001b[1;33m\u001b[0m\u001b[1;33m\u001b[0m\u001b[0m\n\u001b[0m\u001b[0;32m     27\u001b[0m     \u001b[1;32mfor\u001b[0m \u001b[0mi\u001b[0m \u001b[1;32min\u001b[0m \u001b[0mtheta_history\u001b[0m\u001b[1;33m[\u001b[0m\u001b[1;33m:\u001b[0m\u001b[1;33m:\u001b[0m\u001b[1;36m10\u001b[0m\u001b[1;33m]\u001b[0m\u001b[1;33m:\u001b[0m\u001b[1;33m\u001b[0m\u001b[1;33m\u001b[0m\u001b[0m\n\u001b[0;32m     28\u001b[0m         \u001b[1;31m#print(i.shape)\u001b[0m\u001b[1;33m\u001b[0m\u001b[1;33m\u001b[0m\u001b[1;33m\u001b[0m\u001b[0m\n",
      "\u001b[1;31mAttributeError\u001b[0m: 'list' object has no attribute 'shape'"
     ]
    },
    {
     "data": {
      "image/png": "[encoded data removed]",
      "text/plain": [
       "<Figure size 432x288 with 1 Axes>"
      ]
     },
     "metadata": {
      "needs_background": "light"
     },
     "output_type": "display_data"
    }
   ],
   "source": [
    "from IPython.core.display import display, HTML\n",
    "fig, ax = plt.subplots()\n",
    "x = []\n",
    "y = []\n",
    "plt.scatter([i[0] for i in data], [i[1] for i in data])\n",
    "ln, = plt.plot(x, y, 'r--', animated=True, label='h(x)')\n",
    "plt.title('Parameter Optimization with Feature scaling')\n",
    "\n",
    "def init():\n",
    "    ax.set_xlim(0, 10)\n",
    "    ax.set_ylim(0, 10)\n",
    "    ax.set_xlabel('x')\n",
    "    ax.set_ylabel('y')\n",
    "    plt.legend(handles=[ln])\n",
    "    return ln,\n",
    "\n",
    "def update(frame):\n",
    "    theta = frame\n",
    "    x = np.array(range(1, 10))\n",
    "    f = functools.partial(h, theta=theta)\n",
    "    y = [f(update_features(x_i, 2)) for x_i in x]\n",
    "    ln.set_data(x, y)\n",
    "    return ln,\n",
    "\n",
    "def data_gen():\n",
    "    print(theta_history.shape)\n",
    "    for i in theta_history[::10]:\n",
    "        #print(i.shape)\n",
    "        yield i\n",
    "\n",
    "ani = FuncAnimation(fig, update, frames=data_gen(),\n",
    "                    init_func=init, blit=False, interval=100)\n",
    "display(HTML(ani.to_html5_video()))"
   ]
  },
  {
   "cell_type": "code",
   "execution_count": null,
   "metadata": {},
   "outputs": [],
   "source": []
  },
  {
   "cell_type": "code",
   "execution_count": null,
   "metadata": {},
   "outputs": [],
   "source": []
  }
 ],
 "metadata": {
  "kernelspec": {
   "display_name": "Python 3",
   "language": "python",
   "name": "python3"
  },
  "language_info": {
   "codemirror_mode": {
    "name": "ipython",
    "version": 3
   },
   "file_extension": ".py",
   "mimetype": "text/x-python",
   "name": "python",
   "nbconvert_exporter": "python",
   "pygments_lexer": "ipython3",
   "version": "3.8.1"
  }
 },
 "nbformat": 4,
 "nbformat_minor": 4
}
