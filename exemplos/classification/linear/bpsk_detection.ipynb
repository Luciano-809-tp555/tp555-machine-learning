{
 "cells": [
  {
   "cell_type": "code",
   "execution_count": 20,
   "metadata": {},
   "outputs": [],
   "source": [
    "# Import all necessary libraries.\n",
    "import numpy as np\n",
    "from scipy.special import erfc\n",
    "from sklearn.naive_bayes import GaussianNB\n",
    "import matplotlib.pyplot as plt"
   ]
  },
  {
   "cell_type": "code",
   "execution_count": 26,
   "metadata": {},
   "outputs": [],
   "source": [
    "# Number of BPSK symbols to be transmitted.\n",
    "N = 1000000"
   ]
  },
  {
   "cell_type": "code",
   "execution_count": 27,
   "metadata": {},
   "outputs": [],
   "source": [
    "# Instantiate a Gaussian naive Bayes classifier.\n",
    "gnb = GaussianNB()"
   ]
  },
  {
   "cell_type": "code",
   "execution_count": 28,
   "metadata": {},
   "outputs": [
    {
     "name": "stdout",
     "output_type": "stream",
     "text": [
      "Es/N0 dB: -10\n",
      "Es/N0 dB: -8\n",
      "Es/N0 dB: -6\n",
      "Es/N0 dB: -4\n",
      "Es/N0 dB: -2\n",
      "Es/N0 dB: 0\n",
      "Es/N0 dB: 2\n",
      "Es/N0 dB: 4\n",
      "Es/N0 dB: 6\n",
      "Es/N0 dB: 8\n",
      "Es/N0 dB: 10\n"
     ]
    }
   ],
   "source": [
    "# Create Es/N0 vector.\n",
    "EsN0dB = np.arange(-10,12,2)\n",
    "\n",
    "ber_simu = np.zeros(len(EsN0dB))\n",
    "ber_theo = np.zeros(len(EsN0dB))\n",
    "for idx in range(0,len(EsN0dB)):\n",
    "    \n",
    "    print('Es/N0 dB:', EsN0dB[idx])\n",
    "    \n",
    "    EsN0Lin = 10.0**(-(EsN0dB[idx]/10.0))\n",
    "    \n",
    "    # Generate N BPSK symbols.\n",
    "    x = 2.0 * (np.random.rand(N) >= 0.5) - 1.0\n",
    "    # Reshape into a Nx1 column vector.\n",
    "    x = x.reshape(N, 1)\n",
    "    \n",
    "    # Generate noise vector. \n",
    "    # Divide by two once the theoretical ber uses a complex Normal pdf with variance of each part = 1/2.\n",
    "    noise = np.sqrt(EsN0Lin/2.0)*np.random.randn(N, 1)\n",
    "    \n",
    "    # Pass symbols through AWGN channel.\n",
    "    y = x + noise\n",
    "    \n",
    "    # Fit.\n",
    "    gnb.fit(y, x.ravel())\n",
    "    \n",
    "    # Predict.\n",
    "    detected_x = gnb.predict(y)\n",
    "    detected_x = detected_x.reshape(N, 1)\n",
    "    \n",
    "    # Simulated BPSK BER.\n",
    "    error = (x != detected_x).sum()\n",
    "    ber_simu[idx] = 1.0 * error / N\n",
    "    \n",
    "    # Theoretical BPSK BER.\n",
    "    ber_theo[idx] = 0.5*erfc(np.sqrt(10.0**((EsN0dB[idx]/10.0))))"
   ]
  },
  {
   "cell_type": "code",
   "execution_count": 29,
   "metadata": {},
   "outputs": [
    {
     "name": "stdout",
     "output_type": "stream",
     "text": [
      "Es/N0:-10 \t- BER: 3.285510e-01\n",
      "Es/N0:-8 \t- BER: 2.868310e-01\n",
      "Es/N0:-6 \t- BER: 2.400270e-01\n",
      "Es/N0:-4 \t- BER: 1.858190e-01\n",
      "Es/N0:-2 \t- BER: 1.310050e-01\n",
      "Es/N0:0 \t- BER: 7.893600e-02\n",
      "Es/N0:2 \t- BER: 3.754000e-02\n",
      "Es/N0:4 \t- BER: 1.253000e-02\n",
      "Es/N0:6 \t- BER: 2.336000e-03\n",
      "Es/N0:8 \t- BER: 1.850000e-04\n",
      "Es/N0:10 \t- BER: 0.000000e+00\n"
     ]
    }
   ],
   "source": [
    "# Print Es/N0 versus BER values.\n",
    "for i in range(0,len(ber_simu)): print('Es/N0:%d \\t- BER: %e' % (EsN0dB[i], ber_simu[i]))"
   ]
  },
  {
   "cell_type": "code",
   "execution_count": 30,
   "metadata": {},
   "outputs": [
    {
     "data": {
      "image/png": "[encoded data removed]",
      "text/plain": [
       "<Figure size 504x504 with 1 Axes>"
      ]
     },
     "metadata": {
      "needs_background": "light"
     },
     "output_type": "display_data"
    }
   ],
   "source": [
    "# Plot Es/N0 versus BER values.\n",
    "fig = plt.figure(figsize=(7,7))\n",
    "plt.plot(EsN0dB, ber_theo, label='theoretical')\n",
    "plt.plot(EsN0dB, ber_simu, 'ro', label='simulated')\n",
    "plt.xscale('linear')\n",
    "plt.yscale('log')\n",
    "plt.xlabel('Es/N0 [dB]')\n",
    "plt.ylabel('BER')\n",
    "plt.grid(True)\n",
    "plt.title('BPSK detection')\n",
    "plt.legend()\n",
    "plt.show()"
   ]
  },
  {
   "cell_type": "code",
   "execution_count": null,
   "metadata": {},
   "outputs": [],
   "source": []
  },
  {
   "cell_type": "code",
   "execution_count": null,
   "metadata": {},
   "outputs": [],
   "source": []
  },
  {
   "cell_type": "code",
   "execution_count": null,
   "metadata": {},
   "outputs": [],
   "source": []
  },
  {
   "cell_type": "code",
   "execution_count": null,
   "metadata": {},
   "outputs": [],
   "source": []
  }
 ],
 "metadata": {
  "kernelspec": {
   "display_name": "Python 3",
   "language": "python",
   "name": "python3"
  },
  "language_info": {
   "codemirror_mode": {
    "name": "ipython",
    "version": 3
   },
   "file_extension": ".py",
   "mimetype": "text/x-python",
   "name": "python",
   "nbconvert_exporter": "python",
   "pygments_lexer": "ipython3",
   "version": "3.7.3"
  }
 },
 "nbformat": 4,
 "nbformat_minor": 2
}
