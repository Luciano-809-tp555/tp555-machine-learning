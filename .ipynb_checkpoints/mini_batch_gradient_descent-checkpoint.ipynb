{
 "cells": [
  {
   "cell_type": "code",
   "execution_count": 13,
   "metadata": {},
   "outputs": [
    {
     "ename": "NameError",
     "evalue": "name 'random' is not defined",
     "output_type": "error",
     "traceback": [
      "\u001b[1;31m---------------------------------------------------------------------------\u001b[0m",
      "\u001b[1;31mNameError\u001b[0m                                 Traceback (most recent call last)",
      "\u001b[1;32m<ipython-input-13-654aa785c1fc>\u001b[0m in \u001b[0;36m<module>\u001b[1;34m\u001b[0m\n\u001b[0;32m     32\u001b[0m \u001b[1;32mfor\u001b[0m \u001b[0mepoch\u001b[0m \u001b[1;32min\u001b[0m \u001b[0mrange\u001b[0m\u001b[1;33m(\u001b[0m\u001b[0mn_epochs\u001b[0m\u001b[1;33m)\u001b[0m\u001b[1;33m:\u001b[0m\u001b[1;33m\u001b[0m\u001b[1;33m\u001b[0m\u001b[0m\n\u001b[0;32m     33\u001b[0m     \u001b[1;32mfor\u001b[0m \u001b[0mi\u001b[0m \u001b[1;32min\u001b[0m \u001b[0mrange\u001b[0m\u001b[1;33m(\u001b[0m\u001b[0mM\u001b[0m\u001b[1;33m)\u001b[0m\u001b[1;33m:\u001b[0m\u001b[1;33m\u001b[0m\u001b[1;33m\u001b[0m\u001b[0m\n\u001b[1;32m---> 34\u001b[1;33m         \u001b[0mrandom_indexes\u001b[0m \u001b[1;33m=\u001b[0m \u001b[0mrandom\u001b[0m\u001b[1;33m.\u001b[0m\u001b[0msample\u001b[0m\u001b[1;33m(\u001b[0m\u001b[0mrange\u001b[0m\u001b[1;33m(\u001b[0m\u001b[1;36m0\u001b[0m\u001b[1;33m,\u001b[0m \u001b[0mM\u001b[0m\u001b[1;33m)\u001b[0m\u001b[1;33m,\u001b[0m \u001b[0mmb_size\u001b[0m\u001b[1;33m)\u001b[0m\u001b[1;33m\u001b[0m\u001b[1;33m\u001b[0m\u001b[0m\n\u001b[0m\u001b[0;32m     35\u001b[0m         \u001b[0mxi\u001b[0m \u001b[1;33m=\u001b[0m \u001b[0mX_b\u001b[0m\u001b[1;33m[\u001b[0m\u001b[0mrandom_indexes\u001b[0m\u001b[1;33m]\u001b[0m\u001b[1;33m\u001b[0m\u001b[1;33m\u001b[0m\u001b[0m\n\u001b[0;32m     36\u001b[0m         \u001b[0myi\u001b[0m \u001b[1;33m=\u001b[0m \u001b[0my\u001b[0m\u001b[1;33m[\u001b[0m\u001b[0mrandom_indexes\u001b[0m\u001b[1;33m]\u001b[0m\u001b[1;33m\u001b[0m\u001b[1;33m\u001b[0m\u001b[0m\n",
      "\u001b[1;31mNameError\u001b[0m: name 'random' is not defined"
     ]
    }
   ],
   "source": [
    "import numpy as np\n",
    "import random\n",
    "\n",
    "# Define the number of examples.\n",
    "M = 1000\n",
    "\n",
    "# Generate a linear-looking dataset.\n",
    "X = 2 * np.random.rand(M, 1)\n",
    "y = 4 + 3 * X + np.random.randn(M, 1)\n",
    "\n",
    "# Add x0 = 1 to each instance.\n",
    "X_b = np.c_[np.ones((M, 1)), X]\n",
    "\n",
    "# Number of epochs.\n",
    "n_epochs = 50\n",
    "\n",
    "# learning schedule hyperparameter.\n",
    "k = 0.01\n",
    "# Initial learning rate.\n",
    "alpha_int = 0.1\n",
    "# Learning schedule function.\n",
    "def learning_schedule(alpha_int, k, t):\n",
    "    return alpha_int*np.exp(-k*t)\n",
    "\n",
    "alpha = alpha_int\n",
    "\n",
    "# Mini-batch size.\n",
    "mb_size = 10\n",
    "\n",
    "# Random initialization of parameters.\n",
    "a = np.random.randn(2,1) \n",
    "# Mini-batch gradient-descent loop.\n",
    "for epoch in range(n_epochs):\n",
    "    for i in range(M):\n",
    "        random_indexes = random.sample(range(0, M), mb_size)\n",
    "        xi = X_b[random_indexes]\n",
    "        yi = y[random_indexes]\n",
    "        gradients = -2/mb_size*xi.T.dot(yi - xi.dot(a))\n",
    "        a = a - alpha * gradients"
   ]
  },
  {
   "cell_type": "code",
   "execution_count": 10,
   "metadata": {},
   "outputs": [
    {
     "name": "stdout",
     "output_type": "stream",
     "text": [
      "a0_mbgd: 4.095851826421567\n",
      "a1_mbgd: 2.9291733989820927\n"
     ]
    }
   ],
   "source": [
    "# Print found values.\n",
    "print('a0_mbgd: ' + str(a[0, 0]))\n",
    "print('a1_mbgd: ' + str(a[1, 0]))"
   ]
  },
  {
   "cell_type": "code",
   "execution_count": null,
   "metadata": {},
   "outputs": [],
   "source": []
  }
 ],
 "metadata": {
  "kernelspec": {
   "display_name": "Python 3",
   "language": "python",
   "name": "python3"
  },
  "language_info": {
   "codemirror_mode": {
    "name": "ipython",
    "version": 3
   },
   "file_extension": ".py",
   "mimetype": "text/x-python",
   "name": "python",
   "nbconvert_exporter": "python",
   "pygments_lexer": "ipython3",
   "version": "3.8.1"
  }
 },
 "nbformat": 4,
 "nbformat_minor": 4
}
