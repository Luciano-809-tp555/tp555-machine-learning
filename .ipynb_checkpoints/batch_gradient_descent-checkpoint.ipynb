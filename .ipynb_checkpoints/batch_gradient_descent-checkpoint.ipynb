{
 "cells": [
  {
   "cell_type": "code",
   "execution_count": 6,
   "metadata": {},
   "outputs": [],
   "source": [
    "import numpy as np\n",
    "\n",
    "# Define the number of examples.\n",
    "M = 1000\n",
    "\n",
    "# Generate a linear-looking dataset.\n",
    "X = 2 * np.random.rand(M, 1)\n",
    "y = 4 + 3 * X + np.random.randn(M, 1)\n",
    "\n",
    "# add x0 = 1 to each instance.\n",
    "X_b = np.c_[np.ones((M, 1)), X]\n",
    "\n",
    "# Constant learning rate.\n",
    "eta = 0.1\n",
    "# Number of iterations.\n",
    "n_iterations = 1000\n",
    "\n",
    "# random initialization.\n",
    "a = np.random.randn(2,1)\n",
    "\n",
    "# Batch Gradient-Descent loop.\n",
    "for iteration in range(n_iterations):\n",
    "    gradients = -2/M * X_b.T.dot(y - X_b.dot(a))\n",
    "    a = a - eta * gradients"
   ]
  },
  {
   "cell_type": "code",
   "execution_count": null,
   "metadata": {},
   "outputs": [],
   "source": []
  }
 ],
 "metadata": {
  "kernelspec": {
   "display_name": "Python 3",
   "language": "python",
   "name": "python3"
  },
  "language_info": {
   "codemirror_mode": {
    "name": "ipython",
    "version": 3
   },
   "file_extension": ".py",
   "mimetype": "text/x-python",
   "name": "python",
   "nbconvert_exporter": "python",
   "pygments_lexer": "ipython3",
   "version": "3.8.1"
  }
 },
 "nbformat": 4,
 "nbformat_minor": 4
}
