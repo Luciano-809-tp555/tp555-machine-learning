{
 "cells": [
  {
   "cell_type": "code",
   "execution_count": null,
   "metadata": {},
   "outputs": [],
   "source": [
    "# Import all the necessary libraries.\n",
    "import numpy as np\n",
    "import matplotlib.pyplot as plt\n",
    "from mpl_toolkits.mplot3d import Axes3D\n",
    "from matplotlib import cm\n",
    "\n",
    "%matplotlib notebook\n",
    "#%matplotlib widget\n",
    "\n",
    "M = 1000\n",
    "\n",
    "X = 2 * np.random.rand(M, 1)\n",
    "y = 4 + 3 * X + np.random.randn(M, 1)\n",
    "\n",
    "# Generate values for parameters.\n",
    "N = 200\n",
    "a0 = np.linspace(-10.0, 14.0, N)\n",
    "a1 = np.linspace(-10.0, 14.0, N)\n",
    "\n",
    "A0, A1 = np.meshgrid(a0, a1)\n",
    "\n",
    "# Generate points for plotting the cost-function surface.\n",
    "J = np.zeros((N,N))\n",
    "for iter1 in range(0, N):\n",
    "    for iter2 in range(0, N):\n",
    "        yhat = A0[iter1][iter2] + A1[iter1][iter2]*X\n",
    "        J[iter1][iter2] = (1/M)*np.sum( np.square(y - yhat)  )\n",
    "        \n",
    "# add x0 = 1 to each instance.\n",
    "X_b = np.c_[np.ones((M, 1)), X]\n",
    "\n",
    "# Closed-form solution.\n",
    "X = X_b\n",
    "\n",
    "a_opt = np.linalg.pinv(np.transpose(X).dot(X)).dot(np.transpose(X).dot(y))\n",
    "\n",
    "yhat = a_opt[0, 0] + a_opt[1, 0]*X\n",
    "\n",
    "Joptimum = (1/M)*np.sum(np.power((y - yhat), 2) )\n",
    "\n",
    "# Batch gradient descent solution.\n",
    "alpha = 0.1  # learning rate\n",
    "n_iterations = 1000\n",
    "\n",
    "# Random initialization of parameters.\n",
    "a = np.zeros((2,1))\n",
    "a[0] = -10;\n",
    "a[1] = -10;\n",
    "\n",
    "# Create vector for parameter history.\n",
    "a_hist = np.zeros((2, n_iterations+1))\n",
    "# Initialize history vector.\n",
    "a_hist[0, 0] = a[0]\n",
    "a_hist[1, 0] = a[1]\n",
    "\n",
    "# Batch gradient-descent loop.\n",
    "for iteration in range(n_iterations):\n",
    "    gradients = -2/M * X_b.T.dot(y - X_b.dot(a))\n",
    "    a = a - alpha * gradients\n",
    "    a_hist[0, iteration+1] = a[0]\n",
    "    a_hist[1, iteration+1] = a[1]"
   ]
  },
  {
   "cell_type": "code",
   "execution_count": null,
   "metadata": {},
   "outputs": [],
   "source": [
    "# Plot cost-function surface.\n",
    "fig = plt.figure(figsize=(10,10))\n",
    "ax = fig.gca(projection='3d')\n",
    "surf = ax.plot_surface(A0, A1, J, cmap=cm.coolwarm, linewidth=0, antialiased=False)\n",
    "# Add a color bar which maps values to colors.\n",
    "fig.colorbar(surf, shrink=0.5, aspect=5)\n",
    "ax.set_xlabel('$a_0$', fontsize=14)\n",
    "ax.set_ylabel('$a_1$', fontsize=14)\n",
    "ax.set_zlabel('$J_e$', fontsize=14);\n",
    "plt.title('Cost-function\\'s Surface')\n",
    "ax.view_init(20, 45)\n",
    "fig\n",
    "#Show the plot.\n",
    "plt.show()\n",
    "\n",
    "plt.savefig(\"error_surface.png\", dpi=600)"
   ]
  },
  {
   "cell_type": "code",
   "execution_count": null,
   "metadata": {},
   "outputs": [],
   "source": [
    "# Plot figure.        \n",
    "fig = plt.figure(figsize=(10,10))\n",
    "cp = plt.contour(A0, A1, J)\n",
    "plt.clabel(cp, inline=1, fontsize=10)\n",
    "plt.xlabel('$a_0$', fontsize=14)\n",
    "plt.ylabel('$a_1$', fontsize=14)\n",
    "plt.title('Cost-function\\'s Contour')\n",
    "plt.plot(a_opt[0], a_opt[1], c='r', marker='*')\n",
    "plt.plot(a_hist[0, :], a_hist[1, :], 'kx--')\n",
    "plt.xticks(np.arange(-10, 12, step=2.0))\n",
    "plt.yticks(np.arange(-10, 12, step=2.0))\n",
    "plt.show()\n",
    "\n",
    "plt.savefig(\"error_contour.png\", dpi=600)"
   ]
  },
  {
   "cell_type": "code",
   "execution_count": null,
   "metadata": {},
   "outputs": [],
   "source": [
    "# Print found values.\n",
    "print('a0_opt: ' + str(a_opt[0, 0]))\n",
    "print('a1_opt: ' + str(a_opt[1, 0]))\n",
    "\n",
    "print('a0_gd: ' + str(a[0, 0]))\n",
    "print('a1_gd: ' + str(a[1, 0]))"
   ]
  },
  {
   "cell_type": "code",
   "execution_count": null,
   "metadata": {},
   "outputs": [],
   "source": []
  },
  {
   "cell_type": "code",
   "execution_count": null,
   "metadata": {},
   "outputs": [],
   "source": []
  }
 ],
 "metadata": {
  "kernelspec": {
   "display_name": "Python 3",
   "language": "python",
   "name": "python3"
  },
  "language_info": {
   "codemirror_mode": {
    "name": "ipython",
    "version": 3
   },
   "file_extension": ".py",
   "mimetype": "text/x-python",
   "name": "python",
   "nbconvert_exporter": "python",
   "pygments_lexer": "ipython3",
   "version": "3.8.1"
  }
 },
 "nbformat": 4,
 "nbformat_minor": 4
}
